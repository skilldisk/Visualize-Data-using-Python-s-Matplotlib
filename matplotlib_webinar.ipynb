{
 "cells": [
  {
   "cell_type": "markdown",
   "id": "welsh-weight",
   "metadata": {
    "slideshow": {
     "slide_type": "slide"
    }
   },
   "source": [
    "<center>\n",
    "<img src=\"https://skilldisk.com/static/image/about/aboutus.png\" style=\"height:50vh\" />\n",
    "</center>\n",
    "\n",
    "<h1>\" Visualize Data using Python's Matplotlib \"</h1>"
   ]
  },
  {
   "cell_type": "markdown",
   "id": "8af783fe",
   "metadata": {
    "slideshow": {
     "slide_type": "slide"
    }
   },
   "source": [
    "# Installation"
   ]
  },
  {
   "cell_type": "markdown",
   "id": "0eee1e5b",
   "metadata": {
    "slideshow": {
     "slide_type": "subslide"
    }
   },
   "source": [
    "### Using pip\n",
    "\n",
    "```python\n",
    "  pip install matplotlib\n",
    "```"
   ]
  },
  {
   "cell_type": "markdown",
   "id": "c9e5cd3b",
   "metadata": {
    "slideshow": {
     "slide_type": "fragment"
    }
   },
   "source": [
    "### Conda packages\n",
    "\n",
    "```python\n",
    "  conda install matplotlib\n",
    "    \n",
    "    or\n",
    "  \n",
    "  conda install -c conda-forge matplotlib\n",
    "```"
   ]
  },
  {
   "cell_type": "markdown",
   "id": "650ca2f6",
   "metadata": {
    "slideshow": {
     "slide_type": "subslide"
    }
   },
   "source": [
    "### Matplotlib is part of major Python distributions:\n",
    "\n",
    "* Anaconda\n",
    "* ActiveState ActivePython\n",
    "* WinPython\n",
    "etc"
   ]
  },
  {
   "cell_type": "markdown",
   "id": "7b102d66",
   "metadata": {
    "slideshow": {
     "slide_type": "fragment"
    }
   },
   "source": [
    "### Install from Github repository.\n",
    "\n",
    "[Matplotlib : Click here](https://github.com/matplotlib/matplotlib)"
   ]
  },
  {
   "cell_type": "markdown",
   "id": "28125143",
   "metadata": {
    "slideshow": {
     "slide_type": "skip"
    }
   },
   "source": [
    "----------------"
   ]
  },
  {
   "cell_type": "markdown",
   "id": "721b5d75",
   "metadata": {
    "slideshow": {
     "slide_type": "slide"
    }
   },
   "source": [
    "# Plotting"
   ]
  },
  {
   "cell_type": "markdown",
   "id": "23776fe5",
   "metadata": {
    "slideshow": {
     "slide_type": "slide"
    }
   },
   "source": [
    "## Line Plot"
   ]
  },
  {
   "cell_type": "markdown",
   "id": "412b1e30",
   "metadata": {
    "slideshow": {
     "slide_type": "subslide"
    }
   },
   "source": [
    "### Import pyplot Module from Matplotlib"
   ]
  },
  {
   "cell_type": "code",
   "execution_count": null,
   "id": "02fa729e",
   "metadata": {
    "slideshow": {
     "slide_type": "fragment"
    }
   },
   "outputs": [],
   "source": [
    "from matplotlib import pyplot as plt"
   ]
  },
  {
   "cell_type": "markdown",
   "id": "5877cedd",
   "metadata": {
    "slideshow": {
     "slide_type": "subslide"
    }
   },
   "source": [
    "### Create y value list."
   ]
  },
  {
   "cell_type": "code",
   "execution_count": null,
   "id": "046067d7",
   "metadata": {
    "slideshow": {
     "slide_type": "fragment"
    }
   },
   "outputs": [],
   "source": [
    "y = [5, 0.5, 6, 10]"
   ]
  },
  {
   "cell_type": "markdown",
   "id": "88b32937",
   "metadata": {
    "slideshow": {
     "slide_type": "subslide"
    }
   },
   "source": [
    "### Pass the y value to plot function"
   ]
  },
  {
   "cell_type": "code",
   "execution_count": null,
   "id": "9bdb4b1a",
   "metadata": {
    "slideshow": {
     "slide_type": "fragment"
    }
   },
   "outputs": [],
   "source": [
    "plt.plot(y)\n",
    "plt.show()"
   ]
  },
  {
   "cell_type": "markdown",
   "id": "68853c8c",
   "metadata": {
    "slideshow": {
     "slide_type": "subslide"
    }
   },
   "source": [
    "### Adding axis label and title"
   ]
  },
  {
   "cell_type": "code",
   "execution_count": null,
   "id": "b019b1c5",
   "metadata": {
    "slideshow": {
     "slide_type": "fragment"
    }
   },
   "outputs": [],
   "source": [
    "# axis\n",
    "plt.xlabel(\"X axis Label\")\n",
    "plt.ylabel(\"Y axis Label\")\n",
    "\n",
    "# Title\n",
    "plt.title(\"Line Graph\")\n",
    "\n",
    "plt.plot(y)\n",
    "plt.show()"
   ]
  },
  {
   "cell_type": "markdown",
   "id": "490fdd34",
   "metadata": {
    "slideshow": {
     "slide_type": "subslide"
    }
   },
   "source": [
    "### Adding Legends to the graph"
   ]
  },
  {
   "cell_type": "markdown",
   "id": "467cd3ef",
   "metadata": {
    "slideshow": {
     "slide_type": "fragment"
    }
   },
   "source": [
    "```python\n",
    "plt.legend() #Make sure label is passed inside the plot function\n",
    "```"
   ]
  },
  {
   "cell_type": "code",
   "execution_count": null,
   "id": "053fdcd5",
   "metadata": {
    "slideshow": {
     "slide_type": "fragment"
    }
   },
   "outputs": [],
   "source": [
    "# axis\n",
    "plt.xlabel(\"X axis Label\")\n",
    "plt.ylabel(\"Y axis Label\")\n",
    "\n",
    "# Title\n",
    "plt.title(\"Line Graph\")\n",
    "\n",
    "# Plot the graph\n",
    "plt.plot(y, label=\"testing\")\n",
    "\n",
    "# Adding Legends\n",
    "plt.legend()\n",
    "\n",
    "plt.show()"
   ]
  },
  {
   "cell_type": "markdown",
   "id": "a1bb2359",
   "metadata": {
    "slideshow": {
     "slide_type": "subslide"
    }
   },
   "source": [
    "### Adding grid line"
   ]
  },
  {
   "cell_type": "markdown",
   "id": "9b2618b7",
   "metadata": {
    "slideshow": {
     "slide_type": "fragment"
    }
   },
   "source": [
    "```python\n",
    "plt.grid()\n",
    "```"
   ]
  },
  {
   "cell_type": "code",
   "execution_count": null,
   "id": "4342654f",
   "metadata": {
    "slideshow": {
     "slide_type": "fragment"
    }
   },
   "outputs": [],
   "source": [
    "# axis\n",
    "plt.xlabel(\"X axis Label\")\n",
    "plt.ylabel(\"Y axis Label\")\n",
    "\n",
    "# Title\n",
    "plt.title(\"Line Graph\")\n",
    "\n",
    "# Plot the graph\n",
    "plt.plot(y, label=\"account\")\n",
    "\n",
    "# Adding Legends\n",
    "plt.legend()\n",
    "\n",
    "\n",
    "# Adding grid\n",
    "plt.grid()\n",
    "\n",
    "plt.show()"
   ]
  },
  {
   "cell_type": "markdown",
   "id": "88d64dd6",
   "metadata": {
    "slideshow": {
     "slide_type": "subslide"
    }
   },
   "source": [
    "### X data and Y data"
   ]
  },
  {
   "cell_type": "code",
   "execution_count": null,
   "id": "d514c087",
   "metadata": {
    "slideshow": {
     "slide_type": "fragment"
    }
   },
   "outputs": [],
   "source": [
    "x = [0, 0.5, 2, 10]\n",
    "y = [1, 0.5, 6, 10]"
   ]
  },
  {
   "cell_type": "code",
   "execution_count": null,
   "id": "40735edb",
   "metadata": {
    "slideshow": {
     "slide_type": "fragment"
    }
   },
   "outputs": [],
   "source": [
    "plt.plot(x,y)\n",
    "plt.show()"
   ]
  },
  {
   "cell_type": "markdown",
   "id": "88ef0571",
   "metadata": {
    "slideshow": {
     "slide_type": "slide"
    }
   },
   "source": [
    "## Bar Chart"
   ]
  },
  {
   "cell_type": "code",
   "execution_count": null,
   "id": "711c58d9",
   "metadata": {
    "slideshow": {
     "slide_type": "subslide"
    }
   },
   "outputs": [],
   "source": [
    "# Data to plot on the graph\n",
    "fruits = ['Apple', 'Mango', 'Grapes', 'Orange']\n",
    "kg = [5, 6, 2, 4]\n",
    "\n",
    "# Draw Bar Chart\n",
    "plt.bar(fruits,kg)\n",
    "plt.show()"
   ]
  },
  {
   "cell_type": "code",
   "execution_count": null,
   "id": "8aaee90a",
   "metadata": {
    "slideshow": {
     "slide_type": "subslide"
    }
   },
   "outputs": [],
   "source": [
    "# Data to plot on the graph\n",
    "fruits = ['Apple', 'Mango', 'Grapes', 'Orange']\n",
    "kg = [5, 6, 2, 4]\n",
    "\n",
    "# Label x and y axis\n",
    "plt.xlabel(\" Fruits \")\n",
    "plt.ylabel(\" No of Kg \")\n",
    "\n",
    "# Title\n",
    "plt.title(\"Fruits Purchased\")\n",
    "\n",
    "plt.bar(fruits,kg)\n",
    "plt.show()"
   ]
  },
  {
   "cell_type": "markdown",
   "id": "187d7ad7",
   "metadata": {
    "slideshow": {
     "slide_type": "slide"
    }
   },
   "source": [
    "## Pie Chart"
   ]
  },
  {
   "cell_type": "code",
   "execution_count": null,
   "id": "6f3e688a",
   "metadata": {
    "slideshow": {
     "slide_type": "subslide"
    }
   },
   "outputs": [],
   "source": [
    "# Income of a student\n",
    "labels = ['freelancer', 'Social Media', 'Others']\n",
    "\n",
    "# Data to plot the value\n",
    "income = [5000, 3000, 2000]\n",
    "\n",
    "# Plot the Pie Chart\n",
    "plt.pie(income)\n",
    "# plt.pie(income, labels=labels)\n",
    "# plt.pie(income, labels=labels, autopct='%1.1f%%')\n",
    "\n",
    "plt.show()"
   ]
  },
  {
   "cell_type": "code",
   "execution_count": null,
   "id": "8ba2dc5a",
   "metadata": {
    "slideshow": {
     "slide_type": "subslide"
    }
   },
   "outputs": [],
   "source": [
    "# Income of a student\n",
    "labels = ['freelancer', 'Social Media', 'Others']\n",
    "\n",
    "# Data to plot the value\n",
    "income = [5000, 3000, 2000]\n",
    "\n",
    "# explode\n",
    "explode = [0, 0.1, 0.01]\n",
    "\n",
    "# Plot the Pie Chart\n",
    "plt.pie(income, \n",
    "        labels=labels, \n",
    "        autopct='%1.1f%%',\n",
    "        explode = explode )\n",
    "\n",
    "plt.show()"
   ]
  },
  {
   "cell_type": "markdown",
   "id": "2a3c8fe5",
   "metadata": {
    "slideshow": {
     "slide_type": "slide"
    }
   },
   "source": [
    "## Scatter Plot"
   ]
  },
  {
   "cell_type": "code",
   "execution_count": null,
   "id": "96534dd5",
   "metadata": {
    "slideshow": {
     "slide_type": "subslide"
    }
   },
   "outputs": [],
   "source": [
    "x = [1, 5, 6, 8, 6, 10]\n",
    "y = [2, 5, 6, 6, 10, 11]\n",
    "\n",
    "plt.scatter(x,y)\n",
    "plt.show()"
   ]
  },
  {
   "cell_type": "code",
   "execution_count": null,
   "id": "342a6830",
   "metadata": {
    "slideshow": {
     "slide_type": "subslide"
    }
   },
   "outputs": [],
   "source": [
    "from random import randint\n",
    "\n",
    "x = [randint(0,1000) for i in range(100)]\n",
    "y = [randint(0,1000) for i in range(100)]\n",
    "\n",
    "plt.scatter(x,y)\n",
    "plt.show()"
   ]
  },
  {
   "cell_type": "markdown",
   "id": "6b3c9078",
   "metadata": {
    "slideshow": {
     "slide_type": "slide"
    }
   },
   "source": [
    "# How to remember so many things\n",
    "\n",
    "<h1 style=\"font-size:10rem;color:red\">?</h1>\n"
   ]
  },
  {
   "cell_type": "markdown",
   "id": "fb14213b",
   "metadata": {
    "slideshow": {
     "slide_type": "subslide"
    }
   },
   "source": [
    "#### Use <span style=\"color:blue\">Shift + Tab</span> button inside the ( )\n",
    "#### Use <span style=\"color:blue\">Shift</span>  to show auto complete\n",
    "#### Using <span style=\"color:blue\">dir</span> method"
   ]
  },
  {
   "cell_type": "code",
   "execution_count": null,
   "id": "f37136f5",
   "metadata": {
    "slideshow": {
     "slide_type": "subslide"
    }
   },
   "outputs": [],
   "source": [
    "plt.plot()"
   ]
  },
  {
   "cell_type": "markdown",
   "id": "b2e2a00f",
   "metadata": {
    "slideshow": {
     "slide_type": "slide"
    }
   },
   "source": [
    "# Multiple plots in one figure"
   ]
  },
  {
   "cell_type": "markdown",
   "id": "3a381789",
   "metadata": {
    "slideshow": {
     "slide_type": "subslide"
    }
   },
   "source": [
    "### using plt.subplots()\n",
    "\n",
    "```python\n",
    "fig, ax = plt.subplots()\n",
    "\n",
    "```"
   ]
  },
  {
   "cell_type": "code",
   "execution_count": null,
   "id": "e24f8412",
   "metadata": {
    "slideshow": {
     "slide_type": "subslide"
    }
   },
   "outputs": [],
   "source": [
    "fig, ax = plt.subplots(nrows=2, ncols=2)\n",
    "plt.tight_layout()\n",
    "\n",
    "print(ax)"
   ]
  },
  {
   "cell_type": "code",
   "execution_count": null,
   "id": "181558d4",
   "metadata": {
    "slideshow": {
     "slide_type": "subslide"
    }
   },
   "outputs": [],
   "source": [
    "fig, ax = plt.subplots(nrows=2, ncols=1)\n",
    "\n",
    "ax[0].plot([1,2,3,8,16]) \n",
    "ax[0].set_title(\"Line Graph\")\n",
    "ax[0].set_xlabel(\"x label 0\")\n",
    "ax[0].set_ylabel(\"y label 0\")\n",
    "\n",
    "\n",
    "ax[1].bar([1,2,3,4],[6,2,20,54])\n",
    "ax[1].set_title(\"Bar Chart\")\n",
    "ax[1].set_xlabel(\"x label 1\")\n",
    "ax[1].set_ylabel(\"y label 1\")\n",
    "\n",
    "plt.tight_layout()\n",
    "plt.show()"
   ]
  },
  {
   "cell_type": "code",
   "execution_count": null,
   "id": "a1f9b522",
   "metadata": {
    "slideshow": {
     "slide_type": "subslide"
    }
   },
   "outputs": [],
   "source": [
    "fig, ax = plt.subplots(nrows=1, ncols=2, sharey='row')\n",
    "\n",
    "ax[0].plot([1,2,3,8,16])\n",
    "ax[0].set_title(\"Line Graph\")\n",
    "ax[0].set_xlabel(\"x label 0\")\n",
    "ax[0].set_ylabel(\"Common y label\")\n",
    "\n",
    "ax[1].bar([1,2,3,4],[6,2,20,54])\n",
    "ax[1].set_title(\"Bar Chart\")\n",
    "ax[1].set_xlabel(\"x label 1\")\n",
    "\n",
    "plt.tight_layout()\n",
    "plt.show()"
   ]
  },
  {
   "cell_type": "markdown",
   "id": "a0b72910",
   "metadata": {
    "slideshow": {
     "slide_type": "slide"
    }
   },
   "source": [
    "# Styling the plots"
   ]
  },
  {
   "cell_type": "markdown",
   "id": "3d93dc3b",
   "metadata": {
    "slideshow": {
     "slide_type": "subslide"
    }
   },
   "source": [
    "#### List out styles available"
   ]
  },
  {
   "cell_type": "code",
   "execution_count": null,
   "id": "fd7dff19",
   "metadata": {
    "slideshow": {
     "slide_type": "fragment"
    }
   },
   "outputs": [],
   "source": [
    "plt.style.available"
   ]
  },
  {
   "cell_type": "code",
   "execution_count": null,
   "id": "4ee6901e",
   "metadata": {
    "slideshow": {
     "slide_type": "subslide"
    }
   },
   "outputs": [],
   "source": [
    "plt.style.use('fivethirtyeight')\n",
    "\n",
    "plt.plot([1,5,3,9,12])\n",
    "plt.title(\"FiveThirtyEight Style Plot\")\n",
    "plt.xlabel('x label')\n",
    "plt.ylabel('y label')\n",
    "\n",
    "plt.tight_layout()\n",
    "plt.show()"
   ]
  },
  {
   "cell_type": "code",
   "execution_count": null,
   "id": "749a28c4",
   "metadata": {
    "slideshow": {
     "slide_type": "subslide"
    }
   },
   "outputs": [],
   "source": [
    "style_list = plt.style.available\n",
    "\n",
    "\n",
    "\n",
    "for i in range(len(style_list)):\n",
    "    plt.style.use(style_list[i])\n",
    "    fig, ax = plt.subplots()\n",
    "    ax.plot([1,2,3,4])\n",
    "    ax.set_title(style_list[i]+' Style')\n",
    "    plt.tight_layout()\n",
    "    plt.show()\n",
    "    print('#'*20)"
   ]
  },
  {
   "cell_type": "code",
   "execution_count": null,
   "id": "c18929e0",
   "metadata": {
    "slideshow": {
     "slide_type": "subslide"
    }
   },
   "outputs": [],
   "source": [
    "plt.style.use('default')\n",
    "\n",
    "x = [0, 1, 2, 3, 4]\n",
    "y = [1.2, 5, 3, 8, 10]\n",
    "\n",
    "plt.plot(x, y, color='red', linestyle='--', marker='d')\n",
    "# plt.plot(x,y, 'rd--')\n",
    "\n",
    "plt.show()"
   ]
  },
  {
   "cell_type": "code",
   "execution_count": null,
   "id": "d3645e15",
   "metadata": {
    "slideshow": {
     "slide_type": "subslide"
    }
   },
   "outputs": [],
   "source": [
    "fig, ax = plt.subplots()\n",
    "\n",
    "ax.plot(x,y, 'rd-.', mfc='green', mec='#0000ff', mew=2)\n",
    "\n",
    "ax.set_title('Styling Plot', color='#ff0000', loc='center' )\n",
    "\n",
    "ax.spines['bottom'].set_color('#ff0000')\n",
    "# ax.spines['top'].set_color('#dddddd') \n",
    "# ax.spines['right'].set_color('red')\n",
    "# ax.spines['left'].set_color('green')\n",
    "\n",
    "plt.show()"
   ]
  },
  {
   "cell_type": "markdown",
   "id": "5fd6d4a3",
   "metadata": {
    "slideshow": {
     "slide_type": "subslide"
    }
   },
   "source": [
    "#### List of Markers"
   ]
  },
  {
   "cell_type": "code",
   "execution_count": null,
   "id": "71fccf99",
   "metadata": {
    "slideshow": {
     "slide_type": "fragment"
    }
   },
   "outputs": [],
   "source": [
    "from matplotlib.lines import Line2D\n",
    "\n",
    "Line2D.markers"
   ]
  },
  {
   "cell_type": "markdown",
   "id": "c3bc0a0a",
   "metadata": {
    "slideshow": {
     "slide_type": "slide"
    }
   },
   "source": [
    "# GIF image"
   ]
  },
  {
   "cell_type": "code",
   "execution_count": null,
   "id": "47d11a07",
   "metadata": {},
   "outputs": [],
   "source": [
    "from matplotlib import pyplot as plt\n",
    "import gif\n",
    "\n",
    "plt.style.use('default')\n",
    "\n",
    "x = [1,2,3,4,5]\n",
    "y = [2,0.5,3,10,16]\n",
    "\n",
    "\n",
    "@gif.frame\n",
    "def plot_img(i):\n",
    "\n",
    "    \n",
    "    if i==1:\n",
    "        plt.scatter(x,y, color='red')\n",
    "        plt.title('Mark Points')\n",
    "    if i==2:\n",
    "        plt.plot(x, y, 'ro--')\n",
    "        plt.title('Connect the points')\n",
    "    if i==3:\n",
    "        plt.plot(x, y, 'ro--')\n",
    "        plt.title('Indicate x and y label')\n",
    "        plt.xlabel('x label')\n",
    "        plt.ylabel('y label')\n",
    "    if i==4:\n",
    "        plt.plot(x, y, 'ro--', label='line plot')\n",
    "        plt.title('Add the legend')\n",
    "        plt.xlabel('x label')\n",
    "        plt.ylabel('y label')\n",
    "        plt.legend()\n",
    "    if (i==5) or (i==6):\n",
    "        plt.plot(x, y, 'ro--', label='line plot')\n",
    "        plt.title('Add grid to the plot')\n",
    "        plt.xlabel('x label')\n",
    "        plt.ylabel('y label')\n",
    "        plt.legend()\n",
    "        plt.grid()\n",
    "\n",
    "\n",
    "frames = []\n",
    "for i in range(7):\n",
    "    frame = plot_img(i)\n",
    "    frames.append(frame)\n",
    "    \n",
    "gif.save(frames, 'gif_img3.gif', duration=12, unit=\"s\", between=\"startend\")"
   ]
  },
  {
   "cell_type": "markdown",
   "id": "3980452a",
   "metadata": {
    "slideshow": {
     "slide_type": "subslide"
    }
   },
   "source": [
    "![gif image](gif_img3.gif)"
   ]
  },
  {
   "cell_type": "code",
   "execution_count": null,
   "id": "f4dd56dd",
   "metadata": {
    "slideshow": {
     "slide_type": "subslide"
    }
   },
   "outputs": [],
   "source": [
    "from matplotlib import pyplot as plt\n",
    "import matplotlib as mpl\n",
    "import gif\n",
    "\n",
    "mpl.rcParams['axes.spines.right'] = False\n",
    "mpl.rcParams['axes.spines.top'] = False\n",
    "mpl.rcParams['axes.spines.bottom'] = True\n",
    "mpl.rcParams['axes.spines.left'] = True\n",
    "# plt.rcParams['figure.figsize'] = [10, 10]\n",
    "\n",
    "@gif.frame\n",
    "def plot(i):\n",
    "    plt.xlim(0,6)\n",
    "    plt.ylim(0,7)\n",
    "    if i==0:\n",
    "        plt.ylabel('-')\n",
    "        plt.xlabel('-')\n",
    "        plt.title(\"1. Draw x and y line\", fontdict={'fontsize':25, 'color':'blue'})\n",
    "    if i==1:\n",
    "        plt.ylabel('Y axis --->')\n",
    "        plt.xlabel('X axis --->')\n",
    "        plt.title(\"2. Indicate X and Y axis\", fontdict={'fontsize':25, 'color':'green'})\n",
    "    if i==2:\n",
    "        plt.ylabel('Y axis --->')\n",
    "        plt.xlabel('X axis --->')\n",
    "        plt.title(\"3. Mark the Points\", fontdict={'fontsize':25, 'color':'#2aaaa2'})\n",
    "        plt.plot([0,1,4,3.2,5,6],'ro')\n",
    "    if i==3:\n",
    "        plt.ylabel('Y axis --->')\n",
    "        plt.xlabel('X axis --->')\n",
    "        plt.title(\"4. Connect the points\", fontdict={'fontsize':25, 'color':'lime'})\n",
    "        plt.plot([0,1,4,3.2,5,6],'ro-')\n",
    "    if i==4:\n",
    "        plt.ylabel('Y axis --->')\n",
    "        plt.xlabel('X axis --->')\n",
    "        plt.title(\"5. Add legends\", fontdict={'fontsize':25, 'color':'pink'})\n",
    "        plt.plot([0,1,4,3.2,5,6],'ro-', label=\"legend\")\n",
    "        plt.legend(loc=\"upper left\")\n",
    "    if i==5:\n",
    "        plt.ylabel('Y axis --->')\n",
    "        plt.xlabel('X axis --->')\n",
    "        plt.title(\"Line Plot using Matplotlib\", fontdict={'fontsize':26, 'color':'#2a2a2a'})\n",
    "        plt.plot([0,1,4,3.2,5,6],'ro-', label=\"legend\")\n",
    "        plt.legend(loc=\"upper left\")\n",
    "    if i==6:\n",
    "        plt.ylabel('Y axis --->')\n",
    "        plt.xlabel('X axis --->')\n",
    "        plt.title(\"Line Plot using Matplotlib\", fontdict={'fontsize':26, 'color':'#2a2a2a'})\n",
    "        plt.plot([0,1,4,3.2,5,6],'ro-', label=\"legend\")\n",
    "        plt.legend(loc=\"upper left\")\n",
    "\n",
    "    plt.text(5, 0.7, \"Skill Disk\", size=18, rotation=0.,\n",
    "         ha=\"center\", va=\"center\",\n",
    "         bbox=dict(boxstyle=\"round\",\n",
    "                   ec=(1., 170/255, 0., 0.26),\n",
    "                   fc=(1., 170/255, 0., 0.26),\n",
    "                   ),\n",
    "                   color=\"#ffaa00\"\n",
    "         )\n",
    "\n",
    "    plt.text(0, -0.7, \"www.skilldisk.com\", size=9, rotation=0.,\n",
    "         ha=\"center\", va=\"center\",\n",
    "         bbox=dict(boxstyle=\"round\",\n",
    "                   ec=(0.164, 0.164, 0.164, 1),\n",
    "                   fc=(0.164, 0.164, 0.164, 1),\n",
    "                   ),\n",
    "                   color=\"white\"\n",
    "         )\n",
    "\n",
    "    \n",
    "    \n",
    "frames = []\n",
    "for i in range(7):\n",
    "    frame = plot(i)\n",
    "    frames.append(frame)\n",
    "    \n",
    "\n",
    "gif.save(frames, 'example.gif', duration=6, unit=\"s\", between=\"startend\")"
   ]
  },
  {
   "cell_type": "markdown",
   "id": "4d60d1ac",
   "metadata": {
    "slideshow": {
     "slide_type": "subslide"
    }
   },
   "source": [
    "![gif](example.gif)"
   ]
  },
  {
   "cell_type": "markdown",
   "id": "8e42caeb",
   "metadata": {
    "slideshow": {
     "slide_type": "slide"
    }
   },
   "source": [
    "# Thanks Every One"
   ]
  }
 ],
 "metadata": {
  "celltoolbar": "Slideshow",
  "kernelspec": {
   "display_name": "Python 3",
   "language": "python",
   "name": "python3"
  },
  "language_info": {
   "codemirror_mode": {
    "name": "ipython",
    "version": 3
   },
   "file_extension": ".py",
   "mimetype": "text/x-python",
   "name": "python",
   "nbconvert_exporter": "python",
   "pygments_lexer": "ipython3",
   "version": "3.8.5"
  },
  "rise": {
   "autolaunch": true,
   "enable_chalkboard": true,
   "footer": "<h3>Visualize Data using Python's Matplotlib</h3>",
   "header": "<h1>Skill Disk</h1>",
   "scroll": true,
   "theme": "beige"
  }
 },
 "nbformat": 4,
 "nbformat_minor": 5
}
